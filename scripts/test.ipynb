{
 "cells": [
  {
   "cell_type": "code",
   "execution_count": 2,
   "metadata": {},
   "outputs": [
    {
     "name": "stdout",
     "output_type": "stream",
     "text": [
      "fovy: 0.8569566627292158\n",
      "[[1.12088828e+03 0.00000000e+00 2.56000000e+02]\n",
      " [0.00000000e+00 1.12088828e+03 2.56000000e+02]\n",
      " [0.00000000e+00 0.00000000e+00 1.00000000e+00]]\n",
      "[[ 1.   0.   0.  -0. ]\n",
      " [-0.  -1.  -0.  -0. ]\n",
      " [-0.  -0.  -1.   2.5]]\n"
     ]
    },
    {
     "data": {
      "text/plain": [
       "<matplotlib.image.AxesImage at 0x623fdc40>"
      ]
     },
     "execution_count": 2,
     "metadata": {},
     "output_type": "execute_result"
    },
    {
     "data": {
      "image/png": "[encoded data removed]",
      "text/plain": [
       "<Figure size 640x480 with 1 Axes>"
      ]
     },
     "metadata": {},
     "output_type": "display_data"
    }
   ],
   "source": [
    "from cam_utils import orbit_camera\n",
    "from gs_renderer import MiniCam\n",
    "from openpose_utils import *\n",
    "import cv2\n",
    "import numpy as np\n",
    "\n",
    "T_pose_keypoints = np.array(\n",
    "    [\n",
    "        [0, 158, 14],\n",
    "        [0, 138, 0],\n",
    "        [-17, 138, 0],\n",
    "        [-17, 113, 0],\n",
    "        [-17, 88, 0],\n",
    "        [17, 138, 0],\n",
    "        [17, 113, 0],\n",
    "        [17, 88, 0],\n",
    "        [-10, 92, 0],\n",
    "        [-10, 52, 0],\n",
    "        [-10, 16, 0],\n",
    "        [10, 92, 0],\n",
    "        [10, 52, 0],\n",
    "        [10, 16, 0],\n",
    "        [-3, 161, 11],\n",
    "        [3, 161, 11],\n",
    "        [-7, 158, 3],\n",
    "        [7, 158, 3],\n",
    "    ]\n",
    ")\n",
    "\n",
    "normalized_keypoints = mid_and_scale(T_pose_keypoints)\n",
    "\n",
    "fovy = 49.1\n",
    "pose = orbit_camera(-0, 0, 2.5)\n",
    "w2c = np.linalg.inv(pose)\n",
    "w2c[1:3, :3] *= -1\n",
    "w2c[:3, 3] *= -1\n",
    "# print(pose)\n",
    "cur_cam = MiniCam(\n",
    "    pose,\n",
    "    512,\n",
    "    512,\n",
    "    np.deg2rad(fovy),\n",
    "    np.deg2rad(fovy),\n",
    "    0.01,\n",
    "    100,\n",
    ")\n",
    "print(\"fovy:\", np.deg2rad(fovy))\n",
    "K = cur_cam.K()\n",
    "RT = w2c[:3, :]\n",
    "# focal_length = 500\n",
    "# fx = focal_length * image_shape[1] / image_shape[0]\n",
    "# fy = focal_length\n",
    "# cx, cy = image_shape[1] / 2, image_shape[0] / 2  # 光心\n",
    "# K = np.array([[fx, 0, cx], [0, fy, cy], [0, 0, 1]])\n",
    "print(K)\n",
    "print(RT)\n",
    "result = draw_openpose_human_pose(normalized_keypoints, (512, 512), K, RT)\n",
    "# cv2.imwrite(\"T_pose.jpg\", cv2.cvtColor(result, cv2.COLOR_BGR2RGB))\n",
    "# show result\n",
    "import matplotlib.pyplot as plt\n",
    "\n",
    "plt.imshow(result)"
   ]
  },
  {
   "cell_type": "code",
   "execution_count": null,
   "metadata": {},
   "outputs": [],
   "source": []
  }
 ],
 "metadata": {
  "kernelspec": {
   "display_name": "cs182",
   "language": "python",
   "name": "python3"
  },
  "language_info": {
   "codemirror_mode": {
    "name": "ipython",
    "version": 3
   },
   "file_extension": ".py",
   "mimetype": "text/x-python",
   "name": "python",
   "nbconvert_exporter": "python",
   "pygments_lexer": "ipython3",
   "version": "3.8.18"
  }
 },
 "nbformat": 4,
 "nbformat_minor": 2
}
